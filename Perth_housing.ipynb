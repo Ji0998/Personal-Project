{
  "nbformat": 4,
  "nbformat_minor": 0,
  "metadata": {
    "colab": {
      "provenance": [],
      "authorship_tag": "ABX9TyNPKoH1t1mmA2kRTAEFV+3D",
      "include_colab_link": true
    },
    "kernelspec": {
      "name": "python3",
      "display_name": "Python 3"
    },
    "language_info": {
      "name": "python"
    }
  },
  "cells": [
    {
      "cell_type": "markdown",
      "metadata": {
        "id": "view-in-github",
        "colab_type": "text"
      },
      "source": [
        "<a href=\"https://colab.research.google.com/github/Ji0998/Personal-Project/blob/main/Perth_housing.ipynb\" target=\"_parent\"><img src=\"https://colab.research.google.com/assets/colab-badge.svg\" alt=\"Open In Colab\"/></a>"
      ]
    },
    {
      "cell_type": "markdown",
      "source": [
        "##Previous\n"
      ],
      "metadata": {
        "id": "MnsZ28WNu4ML"
      }
    },
    {
      "cell_type": "code",
      "source": [
        "import pandas as pd\n",
        "\n",
        "# 샘플 JSON 형태 데이터\n",
        "sample_json = [\n",
        "    {\"title\":\"Unit 10/50 Milligan St\",\"price\":550,\"beds\":\"2 Beds\",\"url\":\"https://...\"},\n",
        "    {\"title\":\"23 Smith St, Perth\",\"price\":480,\"beds\":\"3 Beds\",\"url\":\"https://...\"},\n",
        "    {\"title\":\"123 Hay St\",\"price\":620,\"beds\":\"1 Bed\",\"url\":\"https://...\"}\n",
        "]\n",
        "\n",
        "# DataFrame 변환 + 날짜 추가\n",
        "df = pd.DataFrame(sample_json)\n",
        "df['Date'] = pd.Timestamp.now().date()\n",
        "print(df)\n"
      ],
      "metadata": {
        "colab": {
          "base_uri": "https://localhost:8080/"
        },
        "id": "4NFXlRaanvyV",
        "outputId": "8a21ba41-546d-4e3c-a265-2a29cfb37c78"
      },
      "execution_count": 14,
      "outputs": [
        {
          "output_type": "stream",
          "name": "stdout",
          "text": [
            "                    title  price    beds          url        Date\n",
            "0  Unit 10/50 Milligan St    550  2 Beds  https://...  2025-07-18\n",
            "1      23 Smith St, Perth    480  3 Beds  https://...  2025-07-18\n",
            "2              123 Hay St    620   1 Bed  https://...  2025-07-18\n"
          ]
        }
      ]
    },
    {
      "cell_type": "code",
      "source": [
        "!pip install --upgrade gspread gspread_dataframe oauth2client\n",
        "\n",
        "import gspread\n",
        "from gspread_dataframe import set_with_dataframe\n",
        "from oauth2client.service_account import ServiceAccountCredentials\n",
        "\n",
        "# Set up Google Sheets API credentials\n",
        "scope = [\n",
        "    \"https://spreadsheets.google.com/feeds\",\n",
        "    \"https://www.googleapis.com/auth/drive\"\n",
        "]\n",
        "\n",
        "# your JSON key file name\n",
        "creds = ServiceAccountCredentials.from_json_keyfile_name(\"centering-river-466317-h3-e693019fb064.json\", scope)\n",
        "client = gspread.authorize(creds)\n",
        "\n",
        "# Open your sheet\n",
        "sheet = client.open(\"Rental Dashboard\").worksheet(\"Sheet1\")\n",
        "\n",
        "# Upload dataframe\n",
        "set_with_dataframe(sheet, df)\n",
        "\n",
        "print(\"✅ Data uploaded to Google Sheets\")\n"
      ],
      "metadata": {
        "colab": {
          "base_uri": "https://localhost:8080/"
        },
        "id": "0pL1k2yGoYE6",
        "outputId": "f0a2c337-6be1-4414-a9f0-bf3f9bbdcd90"
      },
      "execution_count": 27,
      "outputs": [
        {
          "output_type": "stream",
          "name": "stdout",
          "text": [
            "Requirement already satisfied: gspread in /usr/local/lib/python3.11/dist-packages (6.2.1)\n",
            "Requirement already satisfied: gspread_dataframe in /usr/local/lib/python3.11/dist-packages (4.0.0)\n",
            "Requirement already satisfied: oauth2client in /usr/local/lib/python3.11/dist-packages (4.1.3)\n",
            "Requirement already satisfied: google-auth>=1.12.0 in /usr/local/lib/python3.11/dist-packages (from gspread) (2.38.0)\n",
            "Requirement already satisfied: google-auth-oauthlib>=0.4.1 in /usr/local/lib/python3.11/dist-packages (from gspread) (1.2.2)\n",
            "Requirement already satisfied: pandas>=0.24.0 in /usr/local/lib/python3.11/dist-packages (from gspread_dataframe) (2.2.2)\n",
            "Requirement already satisfied: six>=1.12.0 in /usr/local/lib/python3.11/dist-packages (from gspread_dataframe) (1.17.0)\n",
            "Requirement already satisfied: httplib2>=0.9.1 in /usr/local/lib/python3.11/dist-packages (from oauth2client) (0.22.0)\n",
            "Requirement already satisfied: pyasn1>=0.1.7 in /usr/local/lib/python3.11/dist-packages (from oauth2client) (0.6.1)\n",
            "Requirement already satisfied: pyasn1-modules>=0.0.5 in /usr/local/lib/python3.11/dist-packages (from oauth2client) (0.4.2)\n",
            "Requirement already satisfied: rsa>=3.1.4 in /usr/local/lib/python3.11/dist-packages (from oauth2client) (4.9.1)\n",
            "Requirement already satisfied: cachetools<6.0,>=2.0.0 in /usr/local/lib/python3.11/dist-packages (from google-auth>=1.12.0->gspread) (5.5.2)\n",
            "Requirement already satisfied: requests-oauthlib>=0.7.0 in /usr/local/lib/python3.11/dist-packages (from google-auth-oauthlib>=0.4.1->gspread) (2.0.0)\n",
            "Requirement already satisfied: pyparsing!=3.0.0,!=3.0.1,!=3.0.2,!=3.0.3,<4,>=2.4.2 in /usr/local/lib/python3.11/dist-packages (from httplib2>=0.9.1->oauth2client) (3.2.3)\n",
            "Requirement already satisfied: numpy>=1.23.2 in /usr/local/lib/python3.11/dist-packages (from pandas>=0.24.0->gspread_dataframe) (2.0.2)\n",
            "Requirement already satisfied: python-dateutil>=2.8.2 in /usr/local/lib/python3.11/dist-packages (from pandas>=0.24.0->gspread_dataframe) (2.9.0.post0)\n",
            "Requirement already satisfied: pytz>=2020.1 in /usr/local/lib/python3.11/dist-packages (from pandas>=0.24.0->gspread_dataframe) (2025.2)\n",
            "Requirement already satisfied: tzdata>=2022.7 in /usr/local/lib/python3.11/dist-packages (from pandas>=0.24.0->gspread_dataframe) (2025.2)\n",
            "Requirement already satisfied: oauthlib>=3.0.0 in /usr/local/lib/python3.11/dist-packages (from requests-oauthlib>=0.7.0->google-auth-oauthlib>=0.4.1->gspread) (3.3.1)\n",
            "Requirement already satisfied: requests>=2.0.0 in /usr/local/lib/python3.11/dist-packages (from requests-oauthlib>=0.7.0->google-auth-oauthlib>=0.4.1->gspread) (2.32.3)\n",
            "Requirement already satisfied: charset-normalizer<4,>=2 in /usr/local/lib/python3.11/dist-packages (from requests>=2.0.0->requests-oauthlib>=0.7.0->google-auth-oauthlib>=0.4.1->gspread) (3.4.2)\n",
            "Requirement already satisfied: idna<4,>=2.5 in /usr/local/lib/python3.11/dist-packages (from requests>=2.0.0->requests-oauthlib>=0.7.0->google-auth-oauthlib>=0.4.1->gspread) (3.10)\n",
            "Requirement already satisfied: urllib3<3,>=1.21.1 in /usr/local/lib/python3.11/dist-packages (from requests>=2.0.0->requests-oauthlib>=0.7.0->google-auth-oauthlib>=0.4.1->gspread) (2.5.0)\n",
            "Requirement already satisfied: certifi>=2017.4.17 in /usr/local/lib/python3.11/dist-packages (from requests>=2.0.0->requests-oauthlib>=0.7.0->google-auth-oauthlib>=0.4.1->gspread) (2025.7.14)\n",
            "✅ Data uploaded to Google Sheets\n"
          ]
        }
      ]
    },
    {
      "cell_type": "markdown",
      "source": [
        "##Current"
      ],
      "metadata": {
        "id": "tn18oBJUvCNy"
      }
    },
    {
      "cell_type": "code",
      "source": [
        "import pandas as pd\n",
        "\n",
        "# DataFrame redefine (example: sample data)\n",
        "df = pd.DataFrame({\n",
        "    \"title\": [\"Unit 10/50 Milligan St\", \"23 Smith St\", \"123 Hay St\"],\n",
        "    \"price\": [550, 480, 620],\n",
        "    \"beds\": [\"2 Beds\", \"3 Beds\", \"1 Bed\"],\n",
        "    \"url\": [\"https://...\", \"https://...\", \"https://...\"],\n",
        "    \"Date\": [pd.Timestamp.now().date()] * 3\n",
        "})\n"
      ],
      "metadata": {
        "id": "TUyp93UCtiAk"
      },
      "execution_count": 22,
      "outputs": []
    },
    {
      "cell_type": "code",
      "source": [
        "# Authorization\n",
        "from oauth2client.service_account import ServiceAccountCredentials\n",
        "import gspread\n",
        "from gspread_dataframe import set_with_dataframe\n",
        "\n",
        "scope = [\n",
        "    \"https://spreadsheets.google.com/feeds\",\n",
        "    \"https://www.googleapis.com/auth/drive\"\n",
        "]\n",
        "\n",
        "creds = ServiceAccountCredentials.from_json_keyfile_name(\"centering-river-466317-h3-e693019fb064.json\", scope)\n",
        "client = gspread.authorize(creds)\n",
        "\n"
      ],
      "metadata": {
        "id": "rwuoaCWZtjWv"
      },
      "execution_count": 23,
      "outputs": []
    },
    {
      "cell_type": "code",
      "source": [
        "# Data upload using spreadsheet\n",
        "sheet = client.open(\"Rental Dashboard\").worksheet(\"Sheet1\")\n",
        "set_with_dataframe(sheet, df)\n",
        "\n",
        "print(\"✅ Data successfully uploaded to Google Sheets!\")\n"
      ],
      "metadata": {
        "colab": {
          "base_uri": "https://localhost:8080/"
        },
        "id": "TNrY3QYStt1B",
        "outputId": "93199f75-6f2f-4c80-f506-e05fa2bb0146"
      },
      "execution_count": 26,
      "outputs": [
        {
          "output_type": "stream",
          "name": "stdout",
          "text": [
            "✅ Data successfully uploaded to Google Sheets!\n"
          ]
        }
      ]
    }
  ]
}
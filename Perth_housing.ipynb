{
  "nbformat": 4,
  "nbformat_minor": 0,
  "metadata": {
    "colab": {
      "provenance": [],
      "authorship_tag": "ABX9TyNIc4KnZdBClii9thFvI1Fj",
      "include_colab_link": true
    },
    "kernelspec": {
      "name": "python3",
      "display_name": "Python 3"
    },
    "language_info": {
      "name": "python"
    }
  },
  "cells": [
    {
      "cell_type": "markdown",
      "metadata": {
        "id": "view-in-github",
        "colab_type": "text"
      },
      "source": [
        "<a href=\"https://colab.research.google.com/github/Ji0998/Personal-Project/blob/main/Perth_housing.ipynb\" target=\"_parent\"><img src=\"https://colab.research.google.com/assets/colab-badge.svg\" alt=\"Open In Colab\"/></a>"
      ]
    },
    {
      "cell_type": "markdown",
      "source": [
        "##Current"
      ],
      "metadata": {
        "id": "tn18oBJUvCNy"
      }
    },
    {
      "cell_type": "code",
      "source": [
        "import pandas as pd\n",
        "import random\n",
        "from datetime import datetime, timedelta\n",
        "from gspread_dataframe import set_with_dataframe\n",
        "\n",
        "# Sample street names and suburbs\n",
        "streets = [\"Stirling St\", \"Hay St\", \"Murray St\", \"William St\", \"Adelaide Tce\", \"Barrack St\", \"Roe St\", \"King St\"]\n",
        "suburbs = [\"Perth\", \"East Perth\", \"West Perth\", \"Northbridge\", \"Victoria Park\", \"South Perth\", \"Como\", \"Burswood\"]\n",
        "\n",
        "# Generate random addresses\n",
        "unit_numbers = [f\"Unit {random.randint(1, 50)}\" for _ in range(30)]\n",
        "addresses = [f\"{unit} {random.choice(streets)}\" for unit in unit_numbers]\n",
        "\n",
        "# Bedroom and price options\n",
        "beds_options = [\"1 Bed\", \"2 Beds\", \"3 Beds\"]\n",
        "price_range = [430, 450, 470, 490, 510, 530, 550, 580, 600, 620]\n",
        "urls = [\"https://www.domain.com.au/rent\"] * 30\n",
        "\n",
        "# Random date generator (past 30 days)\n",
        "def random_date():\n",
        "    today = datetime.now().date()\n",
        "    return today - timedelta(days=random.randint(0, 29))\n",
        "\n",
        "# Build sample dataset\n",
        "sample_data = []\n",
        "\n",
        "for i in range(30):\n",
        "    sample_data.append({\n",
        "        \"title\": addresses[i],\n",
        "        \"suburb\": random.choice(suburbs),\n",
        "        \"price\": random.choice(price_range),\n",
        "        \"beds\": random.choice(beds_options),\n",
        "        \"url\": urls[i],\n",
        "        \"Date\": random_date()\n",
        "    })\n",
        "\n",
        "# Convert to DataFrame\n",
        "df = pd.DataFrame(sample_data)\n",
        "\n",
        "# Update suburb to be more specific: 'suburb, WA, Australia'\n",
        "df['suburb'] = df['suburb'] + \", WA, Australia\"\n"
      ],
      "metadata": {
        "id": "TUyp93UCtiAk"
      },
      "execution_count": 30,
      "outputs": []
    },
    {
      "cell_type": "code",
      "source": [
        "from oauth2client.service_account import ServiceAccountCredentials\n",
        "import gspread\n",
        "from gspread_dataframe import set_with_dataframe\n",
        "\n",
        "# Define the scope\n",
        "scope = [\n",
        "    \"https://spreadsheets.google.com/feeds\",\n",
        "    \"https://www.googleapis.com/auth/drive\"\n",
        "]\n",
        "\n",
        "# Use the correct path to your uploaded JSON file (dragged into Colab)\n",
        "creds = ServiceAccountCredentials.from_json_keyfile_name(\n",
        "    \"/centering-river-466317-h3-e693019fb064.json\", scope\n",
        ")\n",
        "# Authorize client\n",
        "client = gspread.authorize(creds)\n",
        "\n"
      ],
      "metadata": {
        "id": "rwuoaCWZtjWv"
      },
      "execution_count": 31,
      "outputs": []
    },
    {
      "cell_type": "code",
      "source": [
        "# Data upload using spreadsheet\n",
        "sheet = client.open(\"Rental Dashboard\").worksheet(\"Sheet1\")\n",
        "sheet.clear()\n",
        "set_with_dataframe(sheet, df)\n",
        "\n",
        "print(\"✅ 30-row enhanced rental dataset uploaded with random dates and suburbs!\")\n"
      ],
      "metadata": {
        "colab": {
          "base_uri": "https://localhost:8080/"
        },
        "id": "TNrY3QYStt1B",
        "outputId": "9d3734bd-ead3-4c72-be1c-2dd011d9eb5b"
      },
      "execution_count": 32,
      "outputs": [
        {
          "output_type": "stream",
          "name": "stdout",
          "text": [
            "✅ 30-row enhanced rental dataset uploaded with random dates and suburbs!\n"
          ]
        }
      ]
    }
  ]
}